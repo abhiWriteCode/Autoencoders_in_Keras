{
  "nbformat": 4,
  "nbformat_minor": 0,
  "metadata": {
    "colab": {
      "name": "Autoencoders in Keras.ipynb",
      "version": "0.3.2",
      "provenance": [],
      "include_colab_link": true
    },
    "kernelspec": {
      "name": "python3",
      "display_name": "Python 3"
    },
    "accelerator": "GPU"
  },
  "cells": [
    {
      "cell_type": "markdown",
      "metadata": {
        "id": "view-in-github",
        "colab_type": "text"
      },
      "source": [
        "<a href=\"https://colab.research.google.com/github/abhiWriteCode/Autoencoders-in-Keras/blob/master/Autoencoders_in_Keras.ipynb\" target=\"_parent\"><img src=\"https://colab.research.google.com/assets/colab-badge.svg\" alt=\"Open In Colab\"/></a>"
      ]
    },
    {
      "metadata": {
        "id": "BfjtHqa1GkdV",
        "colab_type": "text"
      },
      "cell_type": "markdown",
      "source": [
        "## Building a Autoencoder using Keras"
      ]
    },
    {
      "metadata": {
        "id": "w3i-7-Sp_hVK",
        "colab_type": "code",
        "colab": {
          "base_uri": "https://localhost:8080/",
          "height": 34
        },
        "outputId": "66d32d4c-9530-4ba4-e3c2-5ae71ddf794a"
      },
      "cell_type": "code",
      "source": [
        "import numpy as np\n",
        "import matplotlib.pyplot as plt\n",
        "\n",
        "import keras\n",
        "from keras.models import Model\n",
        "from keras import Sequential\n",
        "from keras.layers import Dense, Flatten, Input\n",
        "from keras.datasets import fashion_mnist\n",
        "\n",
        "%matplotlib inline"
      ],
      "execution_count": 1,
      "outputs": [
        {
          "output_type": "stream",
          "text": [
            "Using TensorFlow backend.\n"
          ],
          "name": "stderr"
        }
      ]
    },
    {
      "metadata": {
        "id": "AKxVGcI1_q_D",
        "colab_type": "code",
        "colab": {
          "base_uri": "https://localhost:8080/",
          "height": 151
        },
        "outputId": "15caa2d9-0c13-44b3-a4e5-a3ede1656cbd"
      },
      "cell_type": "code",
      "source": [
        "(X_train, y_train), (X_test, y_test) = keras.datasets.fashion_mnist.load_data()"
      ],
      "execution_count": 2,
      "outputs": [
        {
          "output_type": "stream",
          "text": [
            "Downloading data from http://fashion-mnist.s3-website.eu-central-1.amazonaws.com/train-labels-idx1-ubyte.gz\n",
            "32768/29515 [=================================] - 0s 4us/step\n",
            "Downloading data from http://fashion-mnist.s3-website.eu-central-1.amazonaws.com/train-images-idx3-ubyte.gz\n",
            "26427392/26421880 [==============================] - 7s 0us/step\n",
            "Downloading data from http://fashion-mnist.s3-website.eu-central-1.amazonaws.com/t10k-labels-idx1-ubyte.gz\n",
            "8192/5148 [===============================================] - 0s 0us/step\n",
            "Downloading data from http://fashion-mnist.s3-website.eu-central-1.amazonaws.com/t10k-images-idx3-ubyte.gz\n",
            "4423680/4422102 [==============================] - 4s 1us/step\n"
          ],
          "name": "stdout"
        }
      ]
    },
    {
      "metadata": {
        "id": "rliSDwpog9dj",
        "colab_type": "code",
        "colab": {
          "base_uri": "https://localhost:8080/",
          "height": 34
        },
        "outputId": "95b4433a-a05e-484d-f928-eea21f373bfd"
      },
      "cell_type": "code",
      "source": [
        "X_train.shape, y_train.shape, X_test.shape, y_test.shape"
      ],
      "execution_count": 3,
      "outputs": [
        {
          "output_type": "execute_result",
          "data": {
            "text/plain": [
              "((60000, 28, 28), (60000,), (10000, 28, 28), (10000,))"
            ]
          },
          "metadata": {
            "tags": []
          },
          "execution_count": 3
        }
      ]
    },
    {
      "metadata": {
        "id": "-vf0K_EIC56t",
        "colab_type": "code",
        "colab": {
          "base_uri": "https://localhost:8080/",
          "height": 282
        },
        "outputId": "25feb05d-cf82-46cf-a08a-92387c21e6ad"
      },
      "cell_type": "code",
      "source": [
        "plt.imshow(X_train[0])\n",
        "plt.axis('off')"
      ],
      "execution_count": 4,
      "outputs": [
        {
          "output_type": "execute_result",
          "data": {
            "text/plain": [
              "(-0.5, 27.5, 27.5, -0.5)"
            ]
          },
          "metadata": {
            "tags": []
          },
          "execution_count": 4
        },
        {
          "output_type": "display_data",
          "data": {
            "image/png": "[encoded data removed]",
            "text/plain": [
              "<matplotlib.figure.Figure at 0x7f63d09cef28>"
            ]
          },
          "metadata": {
            "tags": []
          }
        }
      ]
    },
    {
      "metadata": {
        "id": "BmKNaVgTBHEh",
        "colab_type": "code",
        "colab": {}
      },
      "cell_type": "code",
      "source": [
        "def process_and_normalize(img_set):\n",
        "  img_set = img_set / 255.0\n",
        "  img_set = img_set.reshape(img_set.shape[0] ,28*28)\n",
        "  return img_set"
      ],
      "execution_count": 0,
      "outputs": []
    },
    {
      "metadata": {
        "id": "9NFOiGdQBpyH",
        "colab_type": "code",
        "colab": {}
      },
      "cell_type": "code",
      "source": [
        "def resize_image(img_set):\n",
        "  img_set = img_set * 255.0\n",
        "  img_set = np.clip(img_set, 0, 255)\n",
        "  img_set = img_set.reshape(img_set.shape[0] ,28, 28)\n",
        "  return img_set  "
      ],
      "execution_count": 0,
      "outputs": []
    },
    {
      "metadata": {
        "id": "clhlVunjgraB",
        "colab_type": "code",
        "colab": {
          "base_uri": "https://localhost:8080/",
          "height": 34
        },
        "outputId": "e60810d0-64f2-4700-e57c-88e468572848"
      },
      "cell_type": "code",
      "source": [
        "X_train = process_and_normalize(X_train)\n",
        "X_test = process_and_normalize(X_test)\n",
        "\n",
        "X_train.shape, X_test.shape"
      ],
      "execution_count": 7,
      "outputs": [
        {
          "output_type": "execute_result",
          "data": {
            "text/plain": [
              "((60000, 784), (10000, 784))"
            ]
          },
          "metadata": {
            "tags": []
          },
          "execution_count": 7
        }
      ]
    },
    {
      "metadata": {
        "id": "K2B0OaiRTAtz",
        "colab_type": "text"
      },
      "cell_type": "markdown",
      "source": [
        "## 28 x 28 (reshape) --> 784 --> 128 --> 32 (Botle Neck Layer)--> 128 --> 784 (reshape) --> 28 x 28"
      ]
    },
    {
      "metadata": {
        "id": "3EKI5Bk5G3w1",
        "colab_type": "code",
        "colab": {}
      },
      "cell_type": "code",
      "source": [
        "input_layer = Input(shape=(28*28,), name='Input_Layer')\n",
        "hidden_layer_1 = Dense(units=128, activation='relu', name='Hidden_Layer_1')(input_layer)\n",
        "botleneck_layer = Dense(units=32, activation='relu', name='Encoded_Layer')(hidden_layer_1)\n",
        "hidden_layer_3 = Dense(units=128, activation='relu', name='Hidden_Layer_3')(botleneck_layer)\n",
        "output_layer = Dense(units=784, activation='sigmoid', name='Output_Layer')(hidden_layer_3)"
      ],
      "execution_count": 0,
      "outputs": []
    },
    {
      "metadata": {
        "id": "VA3KDyqb2__H",
        "colab_type": "code",
        "colab": {}
      },
      "cell_type": "code",
      "source": [
        "autoencoder = Model(inputs=input_layer, outputs=output_layer)\n",
        "autoencoder.compile(loss='mean_squared_error', optimizer='rmsprop')"
      ],
      "execution_count": 0,
      "outputs": []
    },
    {
      "metadata": {
        "id": "XdE_CQ5aZJNa",
        "colab_type": "code",
        "colab": {
          "base_uri": "https://localhost:8080/",
          "height": 302
        },
        "outputId": "c43374ae-2597-47aa-b821-1f5f0a395ab1"
      },
      "cell_type": "code",
      "source": [
        "autoencoder.summary()"
      ],
      "execution_count": 10,
      "outputs": [
        {
          "output_type": "stream",
          "text": [
            "_________________________________________________________________\n",
            "Layer (type)                 Output Shape              Param #   \n",
            "=================================================================\n",
            "Input_Layer (InputLayer)     (None, 784)               0         \n",
            "_________________________________________________________________\n",
            "Hidden_Layer_1 (Dense)       (None, 128)               100480    \n",
            "_________________________________________________________________\n",
            "Encoded_Layer (Dense)        (None, 32)                4128      \n",
            "_________________________________________________________________\n",
            "Hidden_Layer_3 (Dense)       (None, 128)               4224      \n",
            "_________________________________________________________________\n",
            "Output_Layer (Dense)         (None, 784)               101136    \n",
            "=================================================================\n",
            "Total params: 209,968\n",
            "Trainable params: 209,968\n",
            "Non-trainable params: 0\n",
            "_________________________________________________________________\n"
          ],
          "name": "stdout"
        }
      ]
    },
    {
      "metadata": {
        "id": "ew085FW9YjnE",
        "colab_type": "code",
        "colab": {
          "base_uri": "https://localhost:8080/",
          "height": 3410
        },
        "outputId": "70a264bd-1bb8-4cb8-bf7a-38aec393c085"
      },
      "cell_type": "code",
      "source": [
        "autoencoder.fit(X_train, X_train,\n",
        "                epochs=100,\n",
        "                batch_size=256,\n",
        "                validation_data=(X_test, X_test))"
      ],
      "execution_count": 11,
      "outputs": [
        {
          "output_type": "stream",
          "text": [
            "Train on 60000 samples, validate on 10000 samples\n",
            "Epoch 1/100\n",
            "60000/60000 [==============================] - 4s 63us/step - loss: 0.0449 - val_loss: 0.0310\n",
            "Epoch 2/100\n",
            "60000/60000 [==============================] - 2s 31us/step - loss: 0.0274 - val_loss: 0.0248\n",
            "Epoch 3/100\n",
            "60000/60000 [==============================] - 2s 32us/step - loss: 0.0235 - val_loss: 0.0242\n",
            "Epoch 4/100\n",
            "60000/60000 [==============================] - 2s 32us/step - loss: 0.0211 - val_loss: 0.0211\n",
            "Epoch 5/100\n",
            "60000/60000 [==============================] - 2s 32us/step - loss: 0.0194 - val_loss: 0.0187\n",
            "Epoch 6/100\n",
            "60000/60000 [==============================] - 2s 32us/step - loss: 0.0182 - val_loss: 0.0176\n",
            "Epoch 7/100\n",
            "60000/60000 [==============================] - 2s 32us/step - loss: 0.0174 - val_loss: 0.0166\n",
            "Epoch 8/100\n",
            "60000/60000 [==============================] - 2s 32us/step - loss: 0.0167 - val_loss: 0.0161\n",
            "Epoch 9/100\n",
            "60000/60000 [==============================] - 2s 32us/step - loss: 0.0161 - val_loss: 0.0157\n",
            "Epoch 10/100\n",
            "60000/60000 [==============================] - 2s 31us/step - loss: 0.0156 - val_loss: 0.0150\n",
            "Epoch 11/100\n",
            "60000/60000 [==============================] - 2s 32us/step - loss: 0.0152 - val_loss: 0.0153\n",
            "Epoch 12/100\n",
            "60000/60000 [==============================] - 2s 31us/step - loss: 0.0148 - val_loss: 0.0158\n",
            "Epoch 13/100\n",
            "60000/60000 [==============================] - 2s 32us/step - loss: 0.0145 - val_loss: 0.0147\n",
            "Epoch 14/100\n",
            "60000/60000 [==============================] - 2s 31us/step - loss: 0.0142 - val_loss: 0.0147\n",
            "Epoch 15/100\n",
            "60000/60000 [==============================] - 2s 32us/step - loss: 0.0140 - val_loss: 0.0136\n",
            "Epoch 16/100\n",
            "60000/60000 [==============================] - 2s 31us/step - loss: 0.0137 - val_loss: 0.0135\n",
            "Epoch 17/100\n",
            "60000/60000 [==============================] - 2s 31us/step - loss: 0.0135 - val_loss: 0.0143\n",
            "Epoch 18/100\n",
            "60000/60000 [==============================] - 2s 31us/step - loss: 0.0134 - val_loss: 0.0130\n",
            "Epoch 19/100\n",
            "60000/60000 [==============================] - 2s 31us/step - loss: 0.0132 - val_loss: 0.0134\n",
            "Epoch 20/100\n",
            "60000/60000 [==============================] - 2s 32us/step - loss: 0.0131 - val_loss: 0.0135\n",
            "Epoch 21/100\n",
            "60000/60000 [==============================] - 2s 32us/step - loss: 0.0129 - val_loss: 0.0132\n",
            "Epoch 22/100\n",
            "60000/60000 [==============================] - 2s 32us/step - loss: 0.0128 - val_loss: 0.0135\n",
            "Epoch 23/100\n",
            "60000/60000 [==============================] - 2s 31us/step - loss: 0.0127 - val_loss: 0.0129\n",
            "Epoch 24/100\n",
            "60000/60000 [==============================] - 2s 31us/step - loss: 0.0126 - val_loss: 0.0128\n",
            "Epoch 25/100\n",
            "60000/60000 [==============================] - 2s 31us/step - loss: 0.0125 - val_loss: 0.0134\n",
            "Epoch 26/100\n",
            "60000/60000 [==============================] - 2s 32us/step - loss: 0.0124 - val_loss: 0.0141\n",
            "Epoch 27/100\n",
            "60000/60000 [==============================] - 2s 32us/step - loss: 0.0123 - val_loss: 0.0123\n",
            "Epoch 28/100\n",
            "60000/60000 [==============================] - 2s 32us/step - loss: 0.0122 - val_loss: 0.0122\n",
            "Epoch 29/100\n",
            "60000/60000 [==============================] - 2s 31us/step - loss: 0.0121 - val_loss: 0.0127\n",
            "Epoch 30/100\n",
            "60000/60000 [==============================] - 2s 31us/step - loss: 0.0120 - val_loss: 0.0131\n",
            "Epoch 31/100\n",
            "60000/60000 [==============================] - 2s 31us/step - loss: 0.0120 - val_loss: 0.0127\n",
            "Epoch 32/100\n",
            "60000/60000 [==============================] - 2s 31us/step - loss: 0.0119 - val_loss: 0.0122\n",
            "Epoch 33/100\n",
            "60000/60000 [==============================] - 2s 31us/step - loss: 0.0118 - val_loss: 0.0119\n",
            "Epoch 34/100\n",
            "60000/60000 [==============================] - 2s 30us/step - loss: 0.0118 - val_loss: 0.0118\n",
            "Epoch 35/100\n",
            "60000/60000 [==============================] - 2s 31us/step - loss: 0.0117 - val_loss: 0.0119\n",
            "Epoch 36/100\n",
            "60000/60000 [==============================] - 2s 31us/step - loss: 0.0117 - val_loss: 0.0125\n",
            "Epoch 37/100\n",
            "60000/60000 [==============================] - 2s 31us/step - loss: 0.0116 - val_loss: 0.0120\n",
            "Epoch 38/100\n",
            "60000/60000 [==============================] - 2s 30us/step - loss: 0.0116 - val_loss: 0.0118\n",
            "Epoch 39/100\n",
            "60000/60000 [==============================] - 2s 31us/step - loss: 0.0115 - val_loss: 0.0117\n",
            "Epoch 40/100\n",
            "60000/60000 [==============================] - 2s 30us/step - loss: 0.0115 - val_loss: 0.0122\n",
            "Epoch 41/100\n",
            "60000/60000 [==============================] - 2s 30us/step - loss: 0.0114 - val_loss: 0.0114\n",
            "Epoch 42/100\n",
            "60000/60000 [==============================] - 2s 30us/step - loss: 0.0114 - val_loss: 0.0121\n",
            "Epoch 43/100\n",
            "60000/60000 [==============================] - 2s 30us/step - loss: 0.0113 - val_loss: 0.0120\n",
            "Epoch 44/100\n",
            "60000/60000 [==============================] - 2s 30us/step - loss: 0.0113 - val_loss: 0.0118\n",
            "Epoch 45/100\n",
            "60000/60000 [==============================] - 2s 31us/step - loss: 0.0113 - val_loss: 0.0112\n",
            "Epoch 46/100\n",
            "60000/60000 [==============================] - 2s 30us/step - loss: 0.0112 - val_loss: 0.0117\n",
            "Epoch 47/100\n",
            "60000/60000 [==============================] - 2s 31us/step - loss: 0.0112 - val_loss: 0.0109\n",
            "Epoch 48/100\n",
            "60000/60000 [==============================] - 2s 31us/step - loss: 0.0112 - val_loss: 0.0118\n",
            "Epoch 49/100\n",
            "60000/60000 [==============================] - 2s 31us/step - loss: 0.0111 - val_loss: 0.0115\n",
            "Epoch 50/100\n",
            "60000/60000 [==============================] - 2s 31us/step - loss: 0.0111 - val_loss: 0.0111\n",
            "Epoch 51/100\n",
            "60000/60000 [==============================] - 2s 32us/step - loss: 0.0111 - val_loss: 0.0111\n",
            "Epoch 52/100\n",
            "60000/60000 [==============================] - 2s 34us/step - loss: 0.0111 - val_loss: 0.0114\n",
            "Epoch 53/100\n",
            "60000/60000 [==============================] - 2s 32us/step - loss: 0.0110 - val_loss: 0.0109\n",
            "Epoch 54/100\n",
            "60000/60000 [==============================] - 2s 31us/step - loss: 0.0110 - val_loss: 0.0114\n",
            "Epoch 55/100\n",
            "60000/60000 [==============================] - 2s 31us/step - loss: 0.0110 - val_loss: 0.0113\n",
            "Epoch 56/100\n",
            "60000/60000 [==============================] - 2s 32us/step - loss: 0.0110 - val_loss: 0.0112\n",
            "Epoch 57/100\n",
            "60000/60000 [==============================] - 2s 32us/step - loss: 0.0109 - val_loss: 0.0112\n",
            "Epoch 58/100\n",
            "60000/60000 [==============================] - 2s 31us/step - loss: 0.0109 - val_loss: 0.0111\n",
            "Epoch 59/100\n",
            "60000/60000 [==============================] - 2s 31us/step - loss: 0.0109 - val_loss: 0.0106\n",
            "Epoch 60/100\n",
            "60000/60000 [==============================] - 2s 32us/step - loss: 0.0109 - val_loss: 0.0107\n",
            "Epoch 61/100\n",
            "60000/60000 [==============================] - 2s 32us/step - loss: 0.0108 - val_loss: 0.0108\n",
            "Epoch 62/100\n",
            "60000/60000 [==============================] - 2s 33us/step - loss: 0.0108 - val_loss: 0.0112\n",
            "Epoch 63/100\n",
            "60000/60000 [==============================] - 2s 33us/step - loss: 0.0108 - val_loss: 0.0111\n",
            "Epoch 64/100\n",
            "60000/60000 [==============================] - 2s 32us/step - loss: 0.0108 - val_loss: 0.0109\n",
            "Epoch 65/100\n",
            "60000/60000 [==============================] - 2s 32us/step - loss: 0.0108 - val_loss: 0.0111\n",
            "Epoch 66/100\n",
            "60000/60000 [==============================] - 2s 32us/step - loss: 0.0107 - val_loss: 0.0108\n",
            "Epoch 67/100\n",
            "60000/60000 [==============================] - 2s 32us/step - loss: 0.0107 - val_loss: 0.0106\n",
            "Epoch 68/100\n",
            "60000/60000 [==============================] - 2s 32us/step - loss: 0.0107 - val_loss: 0.0112\n",
            "Epoch 69/100\n",
            "60000/60000 [==============================] - 2s 32us/step - loss: 0.0107 - val_loss: 0.0112\n",
            "Epoch 70/100\n",
            "60000/60000 [==============================] - 2s 33us/step - loss: 0.0107 - val_loss: 0.0110\n",
            "Epoch 71/100\n",
            "60000/60000 [==============================] - 2s 33us/step - loss: 0.0106 - val_loss: 0.0107\n",
            "Epoch 72/100\n",
            "60000/60000 [==============================] - 2s 32us/step - loss: 0.0106 - val_loss: 0.0107\n",
            "Epoch 73/100\n",
            "60000/60000 [==============================] - 2s 32us/step - loss: 0.0106 - val_loss: 0.0110\n",
            "Epoch 74/100\n",
            "60000/60000 [==============================] - 2s 32us/step - loss: 0.0106 - val_loss: 0.0109\n",
            "Epoch 75/100\n",
            "60000/60000 [==============================] - 2s 32us/step - loss: 0.0106 - val_loss: 0.0110\n",
            "Epoch 76/100\n",
            "60000/60000 [==============================] - 2s 32us/step - loss: 0.0106 - val_loss: 0.0108\n",
            "Epoch 77/100\n",
            "60000/60000 [==============================] - 2s 32us/step - loss: 0.0105 - val_loss: 0.0109\n",
            "Epoch 78/100\n",
            "60000/60000 [==============================] - 2s 31us/step - loss: 0.0105 - val_loss: 0.0107\n",
            "Epoch 79/100\n",
            "60000/60000 [==============================] - 2s 31us/step - loss: 0.0105 - val_loss: 0.0107\n",
            "Epoch 80/100\n",
            "60000/60000 [==============================] - 2s 32us/step - loss: 0.0105 - val_loss: 0.0110\n",
            "Epoch 81/100\n",
            "60000/60000 [==============================] - 2s 32us/step - loss: 0.0105 - val_loss: 0.0108\n",
            "Epoch 82/100\n",
            "60000/60000 [==============================] - 2s 31us/step - loss: 0.0105 - val_loss: 0.0111\n",
            "Epoch 83/100\n",
            "60000/60000 [==============================] - 2s 32us/step - loss: 0.0105 - val_loss: 0.0109\n",
            "Epoch 84/100\n",
            "60000/60000 [==============================] - 2s 31us/step - loss: 0.0104 - val_loss: 0.0107\n",
            "Epoch 85/100\n",
            "60000/60000 [==============================] - 2s 31us/step - loss: 0.0104 - val_loss: 0.0104\n",
            "Epoch 86/100\n",
            "60000/60000 [==============================] - 2s 31us/step - loss: 0.0104 - val_loss: 0.0109\n",
            "Epoch 87/100\n",
            "60000/60000 [==============================] - 2s 31us/step - loss: 0.0104 - val_loss: 0.0109\n",
            "Epoch 88/100\n",
            "60000/60000 [==============================] - 2s 31us/step - loss: 0.0104 - val_loss: 0.0107\n",
            "Epoch 89/100\n",
            "60000/60000 [==============================] - 2s 31us/step - loss: 0.0104 - val_loss: 0.0108\n",
            "Epoch 90/100\n",
            "60000/60000 [==============================] - 2s 31us/step - loss: 0.0104 - val_loss: 0.0109\n",
            "Epoch 91/100\n",
            "60000/60000 [==============================] - 2s 32us/step - loss: 0.0103 - val_loss: 0.0107\n",
            "Epoch 92/100\n",
            "60000/60000 [==============================] - 2s 33us/step - loss: 0.0103 - val_loss: 0.0104\n",
            "Epoch 93/100\n",
            "60000/60000 [==============================] - 2s 31us/step - loss: 0.0103 - val_loss: 0.0109\n",
            "Epoch 94/100\n",
            "60000/60000 [==============================] - 2s 30us/step - loss: 0.0103 - val_loss: 0.0107\n",
            "Epoch 95/100\n",
            "60000/60000 [==============================] - 2s 31us/step - loss: 0.0103 - val_loss: 0.0108\n",
            "Epoch 96/100\n",
            "60000/60000 [==============================] - 2s 30us/step - loss: 0.0103 - val_loss: 0.0108\n",
            "Epoch 97/100\n",
            "60000/60000 [==============================] - 2s 30us/step - loss: 0.0103 - val_loss: 0.0104\n",
            "Epoch 98/100\n",
            "60000/60000 [==============================] - 2s 30us/step - loss: 0.0103 - val_loss: 0.0106\n",
            "Epoch 99/100\n",
            "60000/60000 [==============================] - 2s 31us/step - loss: 0.0103 - val_loss: 0.0107\n",
            "Epoch 100/100\n",
            "60000/60000 [==============================] - 2s 31us/step - loss: 0.0103 - val_loss: 0.0111\n"
          ],
          "name": "stdout"
        },
        {
          "output_type": "execute_result",
          "data": {
            "text/plain": [
              "<keras.callbacks.History at 0x7f63d04dad68>"
            ]
          },
          "metadata": {
            "tags": []
          },
          "execution_count": 11
        }
      ]
    },
    {
      "metadata": {
        "id": "9mbRDYZMaDYP",
        "colab_type": "code",
        "colab": {}
      },
      "cell_type": "code",
      "source": [
        "decoded = autoencoder.predict(X_test)"
      ],
      "execution_count": 0,
      "outputs": []
    },
    {
      "metadata": {
        "id": "j2nO2CoHClrB",
        "colab_type": "code",
        "colab": {}
      },
      "cell_type": "code",
      "source": [
        "decoded = resize_image(decoded)\n",
        "X_test = resize_image(X_test)"
      ],
      "execution_count": 0,
      "outputs": []
    },
    {
      "metadata": {
        "id": "0l8F4z1T6uL6",
        "colab_type": "code",
        "colab": {
          "base_uri": "https://localhost:8080/",
          "height": 403
        },
        "outputId": "9bedf175-59ba-4eef-b600-718d9d0651b5"
      },
      "cell_type": "code",
      "source": [
        "plt.figure(figsize=(30, 6))\n",
        "\n",
        "n = 10\n",
        "for i in range(n):\n",
        "  plt.subplot(2, n, i+1)\n",
        "  plt.imshow(X_test[i])\n",
        "  plt.title('Original Image')\n",
        "  plt.axis('off')\n",
        "  \n",
        "  plt.subplot(2, n, n+i+1)\n",
        "  plt.imshow(decoded[i])\n",
        "  plt.title('Reduced Image')\n",
        "  plt.axis('off')"
      ],
      "execution_count": 14,
      "outputs": [
        {
          "output_type": "display_data",
          "data": {
            "image/png": "[encoded data removed]",
            "text/plain": [
              "<matplotlib.figure.Figure at 0x7f63c8971cf8>"
            ]
          },
          "metadata": {
            "tags": []
          }
        }
      ]
    },
    {
      "metadata": {
        "id": "QsSgSqYs7jUB",
        "colab_type": "code",
        "colab": {}
      },
      "cell_type": "code",
      "source": [
        ""
      ],
      "execution_count": 0,
      "outputs": []
    }
  ]
}